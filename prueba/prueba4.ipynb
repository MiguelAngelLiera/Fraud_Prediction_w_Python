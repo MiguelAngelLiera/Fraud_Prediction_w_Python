{
 "cells": [
  {
   "cell_type": "code",
   "execution_count": 5,
   "metadata": {},
   "outputs": [
    {
     "name": "stdout",
     "output_type": "stream",
     "text": [
      "y: 0, x: 0\n",
      "y: 0, x: 1\n",
      "y: 0, x: 2\n",
      "y: 0, x: 3\n",
      "y: 1, x: 0\n",
      "y: 1, x: 1\n",
      "y: 1, x: 2\n",
      "y: 1, x: 3\n",
      "y: 2, x: 0\n",
      "y: 2, x: 1\n",
      "y: 2, x: 2\n",
      "y: 2, x: 3\n",
      "y: 3, x: 0\n",
      "y: 3, x: 1\n",
      "y: 3, x: 2\n",
      "y: 3, x: 3\n",
      "y: 4, x: 0\n",
      "y: 4, x: 1\n",
      "y: 4, x: 2\n",
      "y: 4, x: 3\n",
      "y: 5, x: 0\n",
      "y: 5, x: 1\n",
      "y: 5, x: 2\n",
      "y: 5, x: 3\n",
      "y: 6, x: 0\n",
      "y: 6, x: 1\n",
      "y: 6, x: 2\n",
      "y: 6, x: 3\n",
      "y: 7, x: 0\n",
      "y: 7, x: 1\n",
      "y: 7, x: 2\n",
      "y: 7, x: 3\n"
     ]
    }
   ],
   "source": [
    "x = 0\n",
    "y = 0\n",
    "\n",
    "for n, var_col in enumerate(range(1,33)):\n",
    "    x=n\n",
    "    if n % 4 == 0 and n != 0:\n",
    "        y = y + 1\n",
    "    x = x-y*4\n",
    "    \n",
    "    print(f\"y: {y}, x: {x}\")"
   ]
  }
 ],
 "metadata": {
  "kernelspec": {
   "display_name": "Python 3",
   "language": "python",
   "name": "python3"
  },
  "language_info": {
   "codemirror_mode": {
    "name": "ipython",
    "version": 3
   },
   "file_extension": ".py",
   "mimetype": "text/x-python",
   "name": "python",
   "nbconvert_exporter": "python",
   "pygments_lexer": "ipython3",
   "version": "3.11.8"
  }
 },
 "nbformat": 4,
 "nbformat_minor": 2
}
