{
 "cells": [
  {
   "cell_type": "code",
   "execution_count": 22,
   "metadata": {},
   "outputs": [],
   "source": [
    "def merge(nums1, m: int, nums2, n: int) -> None:\n",
    "        \"\"\"\n",
    "        :type nums1: List[int]\n",
    "        :type m: int\n",
    "        :type nums2: List[int]\n",
    "        :type n: int\n",
    "        :rtype: None Do not return anything, modify nums1 in-place instead.\n",
    "        \"\"\"\n",
    "        t=0\n",
    "        for j in range(n):\n",
    "            for i in range(len(nums1)):\n",
    "                print(f\"i: {i}, j: {j}\")\n",
    "                if nums1[i] == 0:\n",
    "                    nums1[i] = nums2[j]\n",
    "                    break\n",
    "                elif nums1[i] > nums2[j]:\n",
    "                    t=nums1[i]\n",
    "                    nums1[i] = nums2[j]\n",
    "                    recorrer(nums1,t,i)\n",
    "                    print(f\"nums1: {nums1}\")\n",
    "                    break\n",
    "                \n",
    "\n",
    "def recorrer(arr,t,i):\n",
    "    print(arr)\n",
    "    print(t)\n",
    "    print(f\"i: {i}\")\n",
    "    for k in range(i+1, len(arr)):\n",
    "        f = arr[k]\n",
    "        arr[k] = t\n",
    "        t = f"
   ]
  },
  {
   "cell_type": "code",
   "execution_count": 23,
   "metadata": {},
   "outputs": [
    {
     "name": "stdout",
     "output_type": "stream",
     "text": [
      "i: 0, j: 0\n",
      "i: 1, j: 0\n",
      "i: 2, j: 0\n",
      "[1, 2, 2, 0, 0, 0]\n",
      "3\n",
      "i: 2\n",
      "nums1: [1, 2, 2, 3, 0, 0]\n",
      "i: 0, j: 1\n",
      "i: 1, j: 1\n",
      "i: 2, j: 1\n",
      "i: 3, j: 1\n",
      "i: 4, j: 1\n",
      "i: 0, j: 2\n",
      "i: 1, j: 2\n",
      "i: 2, j: 2\n",
      "i: 3, j: 2\n",
      "i: 4, j: 2\n",
      "i: 5, j: 2\n",
      "[1, 2, 2, 3, 5, 6]\n"
     ]
    }
   ],
   "source": [
    "nums1 = [1,2,3,0,0,0]\n",
    "nums2=[2,5,6]\n",
    "merge(nums1,3,nums2,3)\n",
    "print(nums1)"
   ]
  },
  {
   "cell_type": "code",
   "execution_count": 59,
   "metadata": {},
   "outputs": [],
   "source": [
    "def removeDuplicates(nums) -> int:\n",
    "    c = 0\n",
    "    c1=0\n",
    "    s = len(nums)\n",
    "    eliminados = 0\n",
    "    if s > 1:\n",
    "        for i in range(1,s):\n",
    "            if nums[i] == nums[i-1]:\n",
    "                \n",
    "                print(f\"nums: {nums}\")\n",
    "                c = c + 1\n",
    "                \n",
    "                print(f\"i al inicio : {i} \\n\" )\n",
    "                print(f\"c: {c} \\n\" )\n",
    "                if c > 1:\n",
    "                    #eliminados = eliminados + 1\n",
    "                    j = i\n",
    "                    while nums[j+1] == nums[i]:\n",
    "                        j = j + 1\n",
    "                    \n",
    "\n",
    "                    for k in range(i, j+1):\n",
    "                        print(f\"range: {i}, {j+1}\")\n",
    "                        if j+c1 < s:\n",
    "                            print(f\"nums j: {nums[j+1]}, {j+1}\")\n",
    "                            print(f\"nums k: {nums[k]}, {k}\")\n",
    "                            nums[k] = nums[j+1]\n",
    "                            anterior = nums[k]\n",
    "                            c1 = c1 + 1\n",
    "                    c1=0\n",
    "                        \n",
    "\n",
    "                    #nums[s-eliminados] = 0\n",
    "            else:\n",
    "                c=0\n",
    "        return nums\n",
    "    else: \n",
    "        return nums\n",
    "\n",
    "        "
   ]
  },
  {
   "cell_type": "code",
   "execution_count": 60,
   "metadata": {},
   "outputs": [
    {
     "name": "stdout",
     "output_type": "stream",
     "text": [
      "nums: [0, 0, 1, 1, 1, 1, 2, 3, 3]\n",
      "i al inicio : 1 \n",
      "\n",
      "c: 1 \n",
      "\n",
      "nums: [0, 0, 1, 1, 1, 1, 2, 3, 3]\n",
      "i al inicio : 3 \n",
      "\n",
      "c: 1 \n",
      "\n",
      "nums: [0, 0, 1, 1, 1, 1, 2, 3, 3]\n",
      "i al inicio : 4 \n",
      "\n",
      "c: 2 \n",
      "\n",
      "range: 4, 6\n",
      "nums j: 2, 6\n",
      "nums k: 1, 4\n",
      "[0, 0, 1, 1, 2, 1, 2, 3, 3]\n",
      "range: 4, 6\n",
      "nums j: 2, 6\n",
      "nums k: 1, 5\n",
      "[0, 0, 1, 1, 2, 2, 2, 3, 3]\n",
      "nums: [0, 0, 1, 1, 2, 2, 2, 3, 3]\n",
      "i al inicio : 5 \n",
      "\n",
      "c: 3 \n",
      "\n",
      "range: 5, 7\n",
      "nums j: 3, 7\n",
      "nums k: 2, 5\n",
      "[0, 0, 1, 1, 2, 3, 2, 3, 3]\n",
      "range: 5, 7\n",
      "nums j: 3, 7\n",
      "nums k: 2, 6\n",
      "[0, 0, 1, 1, 2, 3, 3, 3, 3]\n",
      "nums: [0, 0, 1, 1, 2, 3, 3, 3, 3]\n",
      "i al inicio : 6 \n",
      "\n",
      "c: 4 \n",
      "\n"
     ]
    },
    {
     "ename": "IndexError",
     "evalue": "list index out of range",
     "output_type": "error",
     "traceback": [
      "\u001b[1;31m---------------------------------------------------------------------------\u001b[0m",
      "\u001b[1;31mIndexError\u001b[0m                                Traceback (most recent call last)",
      "Cell \u001b[1;32mIn[60], line 1\u001b[0m\n\u001b[1;32m----> 1\u001b[0m \u001b[38;5;28mprint\u001b[39m(\u001b[43mremoveDuplicates\u001b[49m\u001b[43m(\u001b[49m\u001b[43m[\u001b[49m\u001b[38;5;241;43m0\u001b[39;49m\u001b[43m,\u001b[49m\u001b[38;5;241;43m0\u001b[39;49m\u001b[43m,\u001b[49m\u001b[38;5;241;43m1\u001b[39;49m\u001b[43m,\u001b[49m\u001b[38;5;241;43m1\u001b[39;49m\u001b[43m,\u001b[49m\u001b[38;5;241;43m1\u001b[39;49m\u001b[43m,\u001b[49m\u001b[38;5;241;43m1\u001b[39;49m\u001b[43m,\u001b[49m\u001b[38;5;241;43m2\u001b[39;49m\u001b[43m,\u001b[49m\u001b[38;5;241;43m3\u001b[39;49m\u001b[43m,\u001b[49m\u001b[38;5;241;43m3\u001b[39;49m\u001b[43m]\u001b[49m\u001b[43m)\u001b[49m)\n",
      "Cell \u001b[1;32mIn[59], line 18\u001b[0m, in \u001b[0;36mremoveDuplicates\u001b[1;34m(nums)\u001b[0m\n\u001b[0;32m     15\u001b[0m \u001b[38;5;28;01mif\u001b[39;00m c \u001b[38;5;241m>\u001b[39m \u001b[38;5;241m1\u001b[39m:\n\u001b[0;32m     16\u001b[0m     \u001b[38;5;66;03m#eliminados = eliminados + 1\u001b[39;00m\n\u001b[0;32m     17\u001b[0m     j \u001b[38;5;241m=\u001b[39m i\n\u001b[1;32m---> 18\u001b[0m     \u001b[38;5;28;01mwhile\u001b[39;00m \u001b[43mnums\u001b[49m\u001b[43m[\u001b[49m\u001b[43mj\u001b[49m\u001b[38;5;241;43m+\u001b[39;49m\u001b[38;5;241;43m1\u001b[39;49m\u001b[43m]\u001b[49m \u001b[38;5;241m==\u001b[39m nums[i]:\n\u001b[0;32m     19\u001b[0m         j \u001b[38;5;241m=\u001b[39m j \u001b[38;5;241m+\u001b[39m \u001b[38;5;241m1\u001b[39m\n\u001b[0;32m     22\u001b[0m     \u001b[38;5;28;01mfor\u001b[39;00m k \u001b[38;5;129;01min\u001b[39;00m \u001b[38;5;28mrange\u001b[39m(i, j\u001b[38;5;241m+\u001b[39m\u001b[38;5;241m1\u001b[39m):\n",
      "\u001b[1;31mIndexError\u001b[0m: list index out of range"
     ]
    }
   ],
   "source": [
    "print(removeDuplicates([0,0,1,1,1,1,2,3,3]))"
   ]
  }
 ],
 "metadata": {
  "kernelspec": {
   "display_name": "Python 3",
   "language": "python",
   "name": "python3"
  },
  "language_info": {
   "codemirror_mode": {
    "name": "ipython",
    "version": 3
   },
   "file_extension": ".py",
   "mimetype": "text/x-python",
   "name": "python",
   "nbconvert_exporter": "python",
   "pygments_lexer": "ipython3",
   "version": "3.11.8"
  }
 },
 "nbformat": 4,
 "nbformat_minor": 2
}
