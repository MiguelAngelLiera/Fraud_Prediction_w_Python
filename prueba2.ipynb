{
 "cells": [
  {
   "cell_type": "code",
   "execution_count": 1,
   "metadata": {},
   "outputs": [
    {
     "name": "stdout",
     "output_type": "stream",
     "text": [
      "Accuracy: 1.0\n"
     ]
    }
   ],
   "source": [
    "#Importamos los modulos necesarios\n",
    "from sklearn.ensemble import RandomForestClassifier\n",
    "from sklearn.model_selection import train_test_split\n",
    "\n",
    "#es un dataset de prueba\n",
    "from sklearn.datasets import load_iris\n",
    "\n",
    "# Cargar un conjunto de datos de ejemplo (en este caso, el conjunto de datos Iris)\n",
    "data = load_iris()\n",
    "X_set = data.data\n",
    "y_set = data.target\n",
    "\n",
    "# Dividir los datos en conjuntos de entrenamiento y prueba\n",
    "#0.7 para el entrenamiento y 0.3 para la prueba\n",
    "x_train, x_test, y_train, y_test = train_test_split(X_set, y_set, test_size=0.3, random_state=42)\n",
    "\n",
    "# Inicializar el modelo de Random Forest con 10 arboles y profundidad 2\n",
    "rf = RandomForestClassifier(n_estimators=10, max_depth=2, random_state=42)\n",
    "\n",
    "# Entrenar el modelo\n",
    "rf.fit(x_train, y_train)\n",
    "accuracy = rf.score(x_test, y_test)\n",
    "print(f'Accuracy: {accuracy}')\n"
   ]
  }
 ],
 "metadata": {
  "kernelspec": {
   "display_name": "Python 3",
   "language": "python",
   "name": "python3"
  },
  "language_info": {
   "codemirror_mode": {
    "name": "ipython",
    "version": 3
   },
   "file_extension": ".py",
   "mimetype": "text/x-python",
   "name": "python",
   "nbconvert_exporter": "python",
   "pygments_lexer": "ipython3",
   "version": "3.11.8"
  }
 },
 "nbformat": 4,
 "nbformat_minor": 2
}
